{
 "cells": [
  {
   "cell_type": "markdown",
   "metadata": {
    "deletable": true,
    "editable": true
   },
   "source": [
    "# Robotty simulation\n",
    "* Import modules\n",
    "* Set up parameters\n",
    "* Define functions"
   ]
  },
  {
   "cell_type": "code",
   "execution_count": 1,
   "metadata": {
    "collapsed": false,
    "deletable": true,
    "editable": true
   },
   "outputs": [],
   "source": [
    "import sys,os\n",
    "sys.path.append(os.getcwd()+'/../')\n",
    "\n",
    "import matplotlib\n",
    "import matplotlib.pyplot as plt\n",
    "import numpy as np\n",
    "import random\n",
    "import kalman\n",
    "\n",
    "#Robot params\n",
    "r = 0.05 #Wheel radius\n",
    "L = 0.1  #Axis length\n",
    "wheel_rate_noise_std_per_sec = 0.1 #rad per sec\n",
    "TICKS_PER_WHEEL = 40\n",
    "RAD_PER_TICK = 2*np.pi/TICKS_PER_WHEEL\n",
    "\n",
    "class WheelEncoderSim:\n",
    "    def __init__(self,rad_per_tick,r,R):\n",
    "        self.rad_per_tick = rad_per_tick\n",
    "        self.r = r\n",
    "        self.R = R\n",
    "        self.v = 0\n",
    "        self.theta = 0\n",
    "        self.t = 0;\n",
    "        self.t_prev = 0\n",
    "    \n",
    "    def updateState(self, dT):\n",
    "        self.t = self.t + dT\n",
    "        theta_new = self.theta + dT*self.v/self.r\n",
    "        Dtheta = theta_new-self.theta\n",
    "        if abs(Dtheta) > self.rad_per_tick:\n",
    "            t_diff = self.t-self.t_prev\n",
    "            self.t_prev = self.t\n",
    "            return True,Dtheta,t_diff\n",
    "        return False,0,0\n",
    "        \n",
    "    \n",
    "def move_diff_rob(x,h,r,L):\n",
    "    theta = x[2]\n",
    "    v_L   = x[3]\n",
    "    v_R   = x[4]\n",
    "    xp    = x + h*np.array([1./2.*(v_L+v_R)*np.cos(theta),\n",
    "                            1./2.*(v_L+v_R)*np.sin(theta),\n",
    "                            1./L*(v_R-v_L),\n",
    "                            0,\n",
    "                            0])\n",
    "    return xp\n",
    "\n",
    "def get_prediction_model(x,h,L):\n",
    "    delA = np.zeros((5,5))\n",
    "    delA[0,2] = -1/2*(x[3]+x[4])*np.sin(x[2])\n",
    "    delA[0,3] = 1/2*np.cos(x[2])\n",
    "    delA[0,4] = 1/2*np.cos(x[2])\n",
    "    delA[1,2] = 1/2*(x[3]+x[4])*np.cos(x[2])\n",
    "    delA[1,3] = 1/2*np.sin(x[2])\n",
    "    delA[1,4] = 1/2*np.sin(x[2])\n",
    "    delA[2,3] = 1/L\n",
    "    delA[2,4] = -1/L\n",
    "    A = np.eye(5) + h*delA\n",
    "    return A"
   ]
  },
  {
   "cell_type": "markdown",
   "metadata": {
    "deletable": true,
    "editable": true
   },
   "source": [
    "# Run the simulation"
   ]
  },
  {
   "cell_type": "code",
   "execution_count": 2,
   "metadata": {
    "collapsed": false,
    "deletable": true,
    "editable": true
   },
   "outputs": [
    {
     "ename": "ValueError",
     "evalue": "shapes (5,5) and (1,1) not aligned: 5 (dim 1) != 1 (dim 0)",
     "output_type": "error",
     "traceback": [
      "\u001b[0;31m---------------------------------------------------------------------------\u001b[0m",
      "\u001b[0;31mValueError\u001b[0m                                Traceback (most recent call last)",
      "\u001b[0;32m<ipython-input-2-6dd76335dd29>\u001b[0m in \u001b[0;36m<module>\u001b[0;34m()\u001b[0m\n\u001b[1;32m     59\u001b[0m         \u001b[0mH_L\u001b[0m \u001b[0;34m=\u001b[0m \u001b[0mnp\u001b[0m\u001b[0;34m.\u001b[0m\u001b[0marray\u001b[0m\u001b[0;34m(\u001b[0m\u001b[0;34m[\u001b[0m\u001b[0;36m0\u001b[0m\u001b[0;34m,\u001b[0m\u001b[0;36m0\u001b[0m\u001b[0;34m,\u001b[0m\u001b[0;36m0\u001b[0m\u001b[0;34m,\u001b[0m\u001b[0mT_L\u001b[0m\u001b[0;34m/\u001b[0m\u001b[0mr_L\u001b[0m\u001b[0;34m,\u001b[0m\u001b[0;36m0\u001b[0m\u001b[0;34m]\u001b[0m\u001b[0;34m)\u001b[0m\u001b[0;34m\u001b[0m\u001b[0m\n\u001b[1;32m     60\u001b[0m \u001b[0;34m\u001b[0m\u001b[0m\n\u001b[0;32m---> 61\u001b[0;31m         \u001b[0mxp\u001b[0m\u001b[0;34m,\u001b[0m\u001b[0mPp\u001b[0m\u001b[0;34m,\u001b[0m\u001b[0mi\u001b[0m\u001b[0;34m,\u001b[0m\u001b[0mPi\u001b[0m\u001b[0;34m,\u001b[0m\u001b[0mK\u001b[0m \u001b[0;34m=\u001b[0m \u001b[0mkalman\u001b[0m\u001b[0;34m.\u001b[0m\u001b[0mupdate\u001b[0m\u001b[0;34m(\u001b[0m\u001b[0mx_est\u001b[0m\u001b[0;34m[\u001b[0m\u001b[0;34m:\u001b[0m\u001b[0;34m,\u001b[0m\u001b[0mi\u001b[0m\u001b[0;34m]\u001b[0m\u001b[0;34m,\u001b[0m\u001b[0mz_L\u001b[0m\u001b[0;34m,\u001b[0m\u001b[0mP_est\u001b[0m\u001b[0;34m[\u001b[0m\u001b[0;34m:\u001b[0m\u001b[0;34m,\u001b[0m\u001b[0;34m:\u001b[0m\u001b[0;34m,\u001b[0m\u001b[0mi\u001b[0m\u001b[0;34m]\u001b[0m\u001b[0;34m,\u001b[0m\u001b[0mH_L\u001b[0m\u001b[0;34m,\u001b[0m\u001b[0mR_L\u001b[0m\u001b[0;34m)\u001b[0m\u001b[0;34m\u001b[0m\u001b[0m\n\u001b[0m\u001b[1;32m     62\u001b[0m         \u001b[0mx_est\u001b[0m\u001b[0;34m[\u001b[0m\u001b[0;34m:\u001b[0m\u001b[0;34m,\u001b[0m\u001b[0mi\u001b[0m\u001b[0;34m]\u001b[0m \u001b[0;34m=\u001b[0m \u001b[0mxp\u001b[0m\u001b[0;34m\u001b[0m\u001b[0m\n\u001b[1;32m     63\u001b[0m         \u001b[0mP_est\u001b[0m\u001b[0;34m[\u001b[0m\u001b[0;34m:\u001b[0m\u001b[0;34m,\u001b[0m\u001b[0;34m:\u001b[0m\u001b[0;34m,\u001b[0m\u001b[0mi\u001b[0m\u001b[0;34m]\u001b[0m \u001b[0;34m=\u001b[0m \u001b[0mPp\u001b[0m\u001b[0;34m\u001b[0m\u001b[0m\n",
      "\u001b[0;32m/Users/joakimlilja/Documents/Projects/robotty/simulation_notebook/../kalman/__init__.py\u001b[0m in \u001b[0;36mupdate\u001b[0;34m(x, z, P, H, R)\u001b[0m\n\u001b[1;32m     12\u001b[0m     \u001b[0mK\u001b[0m \u001b[0;34m=\u001b[0m \u001b[0mP\u001b[0m\u001b[0;34m.\u001b[0m\u001b[0mdot\u001b[0m\u001b[0;34m(\u001b[0m\u001b[0mH\u001b[0m\u001b[0;34m.\u001b[0m\u001b[0mT\u001b[0m\u001b[0;34m)\u001b[0m\u001b[0;34m/\u001b[0m\u001b[0mPi\u001b[0m \u001b[0;31m# assume scalar\u001b[0m\u001b[0;34m\u001b[0m\u001b[0m\n\u001b[1;32m     13\u001b[0m     \u001b[0mxp\u001b[0m \u001b[0;34m=\u001b[0m \u001b[0mx\u001b[0m\u001b[0;34m+\u001b[0m\u001b[0mK\u001b[0m\u001b[0;34m.\u001b[0m\u001b[0mdot\u001b[0m\u001b[0;34m(\u001b[0m\u001b[0mi\u001b[0m\u001b[0;34m)\u001b[0m\u001b[0;34m\u001b[0m\u001b[0m\n\u001b[0;32m---> 14\u001b[0;31m     \u001b[0mPp\u001b[0m \u001b[0;34m=\u001b[0m \u001b[0;34m(\u001b[0m\u001b[0mI\u001b[0m\u001b[0;34m-\u001b[0m\u001b[0mK\u001b[0m\u001b[0;34m.\u001b[0m\u001b[0mdot\u001b[0m\u001b[0;34m(\u001b[0m\u001b[0mH\u001b[0m\u001b[0;34m)\u001b[0m\u001b[0;34m)\u001b[0m\u001b[0;34m.\u001b[0m\u001b[0mdot\u001b[0m\u001b[0;34m(\u001b[0m\u001b[0mP\u001b[0m\u001b[0;34m.\u001b[0m\u001b[0mdot\u001b[0m\u001b[0;34m(\u001b[0m\u001b[0;34m(\u001b[0m\u001b[0mI\u001b[0m\u001b[0;34m-\u001b[0m\u001b[0mK\u001b[0m\u001b[0;34m.\u001b[0m\u001b[0mdot\u001b[0m\u001b[0;34m(\u001b[0m\u001b[0mH\u001b[0m\u001b[0;34m.\u001b[0m\u001b[0mT\u001b[0m\u001b[0;34m)\u001b[0m\u001b[0;34m)\u001b[0m\u001b[0;34m)\u001b[0m\u001b[0;34m)\u001b[0m \u001b[0;34m+\u001b[0m \u001b[0;34m(\u001b[0m\u001b[0mK\u001b[0m\u001b[0;34m*\u001b[0m\u001b[0mR\u001b[0m\u001b[0;34m)\u001b[0m\u001b[0;34m.\u001b[0m\u001b[0mdot\u001b[0m\u001b[0;34m(\u001b[0m\u001b[0mK\u001b[0m\u001b[0;34m.\u001b[0m\u001b[0mT\u001b[0m\u001b[0;34m)\u001b[0m\u001b[0;34m\u001b[0m\u001b[0m\n\u001b[0m\u001b[1;32m     15\u001b[0m     \u001b[0;32mreturn\u001b[0m \u001b[0mxp\u001b[0m\u001b[0;34m,\u001b[0m\u001b[0mPp\u001b[0m\u001b[0;34m,\u001b[0m\u001b[0mi\u001b[0m\u001b[0;34m,\u001b[0m\u001b[0mPi\u001b[0m\u001b[0;34m,\u001b[0m\u001b[0mK\u001b[0m\u001b[0;34m\u001b[0m\u001b[0m\n",
      "\u001b[0;31mValueError\u001b[0m: shapes (5,5) and (1,1) not aligned: 5 (dim 1) != 1 (dim 0)"
     ]
    }
   ],
   "source": [
    "# Simulation time and step length\n",
    "T_end = 1\n",
    "h = 0.1\n",
    "\n",
    "# Time vector\n",
    "T = np.arange(0,T_end,h)\n",
    "\n",
    "# State initialization\n",
    "x_true = np.zeros((5,len(T)))\n",
    "x_true[:,0] = np.array([0,0,0,np.pi/4,np.pi/4])\n",
    "\n",
    "# Simulated sensors\n",
    "wheel_L = WheelEncoderSim(RAD_PER_TICK,0.35,0.1)\n",
    "wheel_R = WheelEncoderSim(RAD_PER_TICK,0.35,0.1)\n",
    "\n",
    "x_est = np.zeros((5,len(T)))\n",
    "x_est[:,0] = np.array([0,0,0,0,0])\n",
    "P_est = np.zeros((5,5,len(T)))\n",
    "P_est[:,:,0] = np.eye(5)\n",
    "\n",
    "# Simulation\n",
    "for i in range(1,len(T)):   \n",
    "    # Move based on current state\n",
    "    x_true[:,i] = move_diff_rob(x_true[:,i-1],h,r,L)\n",
    "    \n",
    "    # Predict kalman filter\n",
    "    A = get_prediction_model(x_est[:,i],h,L)\n",
    "    \n",
    "    Q = np.zeros((5,5))\n",
    "    Q[3,3] = (wheel_rate_noise_std_per_sec*h)*(wheel_rate_noise_std_per_sec*h)\n",
    "    Q[4,4] = (wheel_rate_noise_std_per_sec*h)*(wheel_rate_noise_std_per_sec*h)\n",
    "    \n",
    "    xp, Pp = kalman.predict(x_est[:,i-1],P_est[:,:,i-1],A,Q)\n",
    "    x_est[:,i] = xp\n",
    "    P_est[:,:,i] = Pp\n",
    "    \n",
    "    # Update wheel rotation speed\n",
    "    x_true[3,i] = x_true[3,i-1] + (random.random()-0.5)*wheel_rate_noise_std_per_sec*h\n",
    "    x_true[4,i] = x_true[4,i-1] + (random.random()-0.5)*wheel_rate_noise_std_per_sec*h\n",
    "    \n",
    "    # Update wheel rotation\n",
    "    wheel_L_upd, Dtheta_L, T_L = wheel_L.updateState(h)\n",
    "    wheel_R_upd, Dtheta_R, T_R = wheel_R.updateState(h)\n",
    "    \n",
    "    # Update wheel speed\n",
    "    wheel_L.v = x_true[3,i]\n",
    "    wheel_R.v = x_true[4,i]\n",
    "\n",
    "    \n",
    "    # Estimate the states\n",
    "    # Predict\n",
    "    # If update available\n",
    "    #   update\n",
    "    if wheel_L_upd:\n",
    "        T_L = T_L\n",
    "        z_L = Dtheta_L\n",
    "        r_L = wheel_L.r\n",
    "        R_L = wheel_L.R\n",
    "        H_L = np.array([0,0,0,T_L/r_L,0])\n",
    "        \n",
    "        xp,Pp,i,Pi,K = kalman.update(x_est[:,i],z_L,P_est[:,:,i],H_L,R_L)\n",
    "        x_est[:,i] = xp\n",
    "        P_est[:,:,i] = Pp\n",
    "        \n",
    "    if wheel_R_upd:\n",
    "        T_R = T_R\n",
    "        z_R = Dtheta_R\n",
    "        r_R = wheel_L.r\n",
    "        R_R = wheel_L.R\n",
    "        H_R = np.array([0,0,0,0,T_R/r_R])\n",
    "        \n",
    "        xp,Pp,i,Pi,K = kalman.update(x_est[:,i],z_R,P_est[:,:,i],H_R,R_R)\n",
    "        x_est[:,i] = xp\n",
    "        P_est[:,:,i] = Pp\n",
    "        \n",
    "        \n",
    "    \n",
    "    # Regulate based on measured state\n",
    "    \n",
    "    \n",
    "    "
   ]
  },
  {
   "cell_type": "code",
   "execution_count": null,
   "metadata": {
    "collapsed": false
   },
   "outputs": [],
   "source": [
    "xp, Pp = kalman.predict(x_est[:,i-1],P_est[:,:,i-1],A,Q)"
   ]
  },
  {
   "cell_type": "markdown",
   "metadata": {
    "deletable": true,
    "editable": true
   },
   "source": [
    "# Plot the results"
   ]
  },
  {
   "cell_type": "code",
   "execution_count": null,
   "metadata": {
    "collapsed": false,
    "deletable": true,
    "editable": true,
    "scrolled": true
   },
   "outputs": [],
   "source": [
    "\n",
    "#figure\n",
    "fig, ax = plt.subplots()\n",
    "ax.plot(x_true[0,:],x_true[1,:])\n",
    "plt.show()\n",
    "\n",
    "\n",
    "# Data for plotting\n",
    "#t = np.arange(0.0, 2.0, 0.01)\n",
    "#s = 1 + np.sin(2 * np.pi * t)\n",
    "\n",
    "#fig, ax = plt.subplots()\n",
    "#ax.plot(t, s)\n",
    "\n",
    "#ax.set(xlabel='time (s)', ylabel='voltage (mV)',\n",
    "#       title='About as simple as it gets, folks')\n",
    "#ax.grid()\n",
    "\n",
    "#fig.savefig(\"test.png\")\n",
    "#plt.show()"
   ]
  },
  {
   "cell_type": "code",
   "execution_count": null,
   "metadata": {
    "collapsed": true,
    "deletable": true,
    "editable": true
   },
   "outputs": [],
   "source": []
  }
 ],
 "metadata": {
  "kernelspec": {
   "display_name": "Python 2",
   "language": "python",
   "name": "python2"
  },
  "language_info": {
   "codemirror_mode": {
    "name": "ipython",
    "version": 2
   },
   "file_extension": ".py",
   "mimetype": "text/x-python",
   "name": "python",
   "nbconvert_exporter": "python",
   "pygments_lexer": "ipython2",
   "version": "2.7.13"
  }
 },
 "nbformat": 4,
 "nbformat_minor": 2
}
