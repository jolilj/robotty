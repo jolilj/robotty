{
 "cells": [
  {
   "cell_type": "markdown",
   "metadata": {},
   "source": [
    "# Robotty simulation\n",
    "* Import modules\n",
    "* Set up parameters\n",
    "* Define functions"
   ]
  },
  {
   "cell_type": "code",
   "execution_count": 222,
   "metadata": {
    "collapsed": false
   },
   "outputs": [],
   "source": [
    "import sys,os\n",
    "sys.path.append(os.getcwd()+'/../')\n",
    "\n",
    "import matplotlib\n",
    "import matplotlib.pyplot as plt\n",
    "import numpy as np\n",
    "import random\n",
    "import kalman\n",
    "\n",
    "#Robot params\n",
    "r = 0.05 #Wheel radius\n",
    "L = 0.1  #Axis length\n",
    "wheel_rate_noise_std_per_sec = 0.1 #rad per sec\n",
    "TICKS_PER_WHEEL = 40\n",
    "RAD_PER_TICK = 2*np.pi/TICKS_PER_WHEEL\n",
    "\n",
    "class WheelEncoderSim:\n",
    "    def __init__(self,rad_per_tick):\n",
    "        self.rad_per_tick = rad_per_tick\n",
    "        self.wheel_rot = 0\n",
    "        self.wheel_rot_prev = 0\n",
    "        \n",
    "    def hasTicked(self,deltaRot):\n",
    "        self.wheel_rot = self.wheel_rot + deltaRot\n",
    "        if abs(self.wheel_rot-self.wheel_rot_prev) > self.rad_per_tick:\n",
    "            self.wheel_rot_prev = self.wheel_rot\n",
    "            return True\n",
    "        return False\n",
    "    \n",
    "def move_diff_rob(x,h,r,L):\n",
    "    theta = x[2]\n",
    "    w_L   = x[3]\n",
    "    w_R   = x[4]\n",
    "    xp    = x + h*r*np.array([1./2.*(w_L+w_R)*np.cos(theta),\n",
    "                              1./2.*(w_L+w_R)*np.sin(theta),\n",
    "                              1./L*(w_R-w_L),\n",
    "                              0,\n",
    "                              0])\n",
    "    return xp"
   ]
  },
  {
   "cell_type": "markdown",
   "metadata": {},
   "source": [
    "# Run the simulation"
   ]
  },
  {
   "cell_type": "code",
   "execution_count": 223,
   "metadata": {
    "collapsed": false
   },
   "outputs": [],
   "source": [
    "# Simulation time and step length\n",
    "T_end = 1\n",
    "h = 0.1\n",
    "\n",
    "# Time vector\n",
    "T = np.arange(0,T_end,h)\n",
    "\n",
    "# State initialization\n",
    "x_true = np.zeros((5,len(T)))\n",
    "x_true[:,0] = np.array([0,0,0,np.pi/4,np.pi/4])\n",
    "\n",
    "# Simulated sensors\n",
    "wheel_L = WheelEncoderSim(RAD_PER_TICK)\n",
    "wheel_R = WheelEncoderSim(RAD_PER_TICK)\n",
    "\n",
    "x_est = np.zeros((5,len(T)))\n",
    "x_est[:,0] = np.array([0,0,0,0,0])\n",
    "\n",
    "# Simulation\n",
    "for i in range(1,len(T)):   \n",
    "    # Move based on current state\n",
    "    x_true[:,i] = move_diff_rob(x_true[:,i-1],h,r,L)\n",
    "    \n",
    "    # Update wheel rotation speed\n",
    "    x_true[3,i] = x_true[3,i-1] + (random.random()-0.5)*wheel_rate_noise_std_per_sec*h\n",
    "    x_true[4,i] = x_true[4,i-1] + (random.random()-0.5)*wheel_rate_noise_std_per_sec*h\n",
    "\n",
    "    \n",
    "    # Fake measurements from wheel sensors\n",
    "    wheel_L_upd = wheel_L.hasTicked(x_true[3,i]*h)\n",
    "    wheel_R_upd = wheel_R.hasTicked(x_true[4,i]*h)\n",
    "\n",
    "    \n",
    "    # Estimate the states\n",
    "    # Predict\n",
    "    # If update available\n",
    "    #   update\n",
    "    \n",
    "    # Regulate based on measured state\n",
    "    \n",
    "    \n",
    "    "
   ]
  },
  {
   "cell_type": "markdown",
   "metadata": {},
   "source": [
    "# Plot the results"
   ]
  },
  {
   "cell_type": "code",
   "execution_count": 224,
   "metadata": {
    "collapsed": false,
    "deletable": true,
    "editable": true,
    "scrolled": true
   },
   "outputs": [
    {
     "data": {
      "image/png": "[encoded data removed]",
      "text/plain": [
       "<Figure size 432x288 with 1 Axes>"
      ]
     },
     "metadata": {},
     "output_type": "display_data"
    }
   ],
   "source": [
    "\n",
    "#figure\n",
    "fig, ax = plt.subplots()\n",
    "ax.plot(x_true[0,:],x_true[1,:])\n",
    "plt.show()\n",
    "\n",
    "\n",
    "# Data for plotting\n",
    "#t = np.arange(0.0, 2.0, 0.01)\n",
    "#s = 1 + np.sin(2 * np.pi * t)\n",
    "\n",
    "#fig, ax = plt.subplots()\n",
    "#ax.plot(t, s)\n",
    "\n",
    "#ax.set(xlabel='time (s)', ylabel='voltage (mV)',\n",
    "#       title='About as simple as it gets, folks')\n",
    "#ax.grid()\n",
    "\n",
    "#fig.savefig(\"test.png\")\n",
    "#plt.show()"
   ]
  },
  {
   "cell_type": "code",
   "execution_count": null,
   "metadata": {
    "collapsed": true
   },
   "outputs": [],
   "source": []
  }
 ],
 "metadata": {
  "kernelspec": {
   "display_name": "Python 2",
   "language": "python",
   "name": "python2"
  },
  "language_info": {
   "codemirror_mode": {
    "name": "ipython",
    "version": 2
   },
   "file_extension": ".py",
   "mimetype": "text/x-python",
   "name": "python",
   "nbconvert_exporter": "python",
   "pygments_lexer": "ipython2",
   "version": "2.7.13"
  }
 },
 "nbformat": 4,
 "nbformat_minor": 2
}
